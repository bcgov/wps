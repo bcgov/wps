{
 "cells": [
  {
   "cell_type": "code",
   "execution_count": 44,
   "id": "fedf0c8e",
   "metadata": {},
   "outputs": [],
   "source": [
    "# def classify(d):\n",
    "#     r = 0\n",
    "#     g = 1\n",
    "#     b = 2\n",
    "#     a = 3\n",
    "# #     rgba = np.empty((4,256, 256),np.uint8)\n",
    "#     rgba = np.empty((1,256, 256),np.uint8)\n",
    "#     for band in d:\n",
    "#         for irow, row in enumerate(band):\n",
    "#             for icol, col in enumerate(row):\n",
    "#                 if col >= 0:\n",
    "#                     rgba[r][irow][icol] = 255\n",
    "# #                     rgba[g][irow][icol] = 0\n",
    "# #                     rgba[b][irow][icol] = 0\n",
    "# #                     rgba[a][irow][icol] = 0\n",
    "#                 else:\n",
    "#                     rgba[r][irow][icol] = 0\n",
    "# #                     rgba[g][irow][icol] = 0\n",
    "# #                     rgba[b][irow][icol] = 0\n",
    "# #                     rgba[a][irow][icol] = 0\n",
    "#     return rgba\n",
    "import numpy as np\n",
    "\n",
    "def lookup(value):\n",
    "    if value < 0:\n",
    "        return 0, 0, 0\n",
    "    if value >= 0 and value < 10:\n",
    "        return 0x01, 0x00, 0xfc\n",
    "    elif value >= 10 and value < 500:\n",
    "        return 0x04, 0x81, 0xff\n",
    "    elif value >= 500 and value < 2000:\n",
    "        return 0x05, 0x7c, 0x04\n",
    "    elif value >= 2000 and value < 4000:\n",
    "        return 0x03, 0xfe, 0x03\n",
    "    elif value >= 4000 and value < 10000:\n",
    "        return 0xfe, 0xff, 0x04\n",
    "    elif value >= 10000 and value < 30000:\n",
    "        return 0xf9, 0xab, 0x03\n",
    "    elif value >= 30000:\n",
    "        return 0xfd, 0x01, 0x00\n",
    "\n",
    "\n",
    "def classify(d):\n",
    "    \"\"\"\n",
    "    0-10        : 0100fc\n",
    "    10-500      : 0481ff\n",
    "    500-2000    : 057c04\n",
    "    2000-4000   : 03fe03\n",
    "    4000-10000  : feff04\n",
    "    10000-30000 : f9ab03\n",
    "    30000+      : fd0100\n",
    "    \"\"\"\n",
    "#     rgba = np.empty((256, 256*4), np.uint8)\n",
    "    rgba = []\n",
    "    # mask = np.empty((256, 256), np.uint8)\n",
    "    for band in d:\n",
    "        for irow, row in enumerate(band):\n",
    "            rgba.append([])\n",
    "            for icol, col in enumerate(row):                \n",
    "                if col >= 0:                    \n",
    "                    r, g, b = lookup(col)\n",
    "                    a = 0xff\n",
    "#                     rgba[irow].append()\n",
    "# #                     rgba[irow][icol] = r << 24 & g << 16 & b << 8 & a\n",
    "#                     rgba[irow][icol] = 0xFF0000FF\n",
    "                else:\n",
    "                    r, g, b, a = 0x0, 0x0, 0x0, 0x0\n",
    "                rgba[irow].append(r)\n",
    "                rgba[irow].append(g)\n",
    "                rgba[irow].append(b)\n",
    "                rgba[irow].append(a)\n",
    "                    \n",
    "#                     rgba[irow][icol] = 0x00FF00FF\n",
    "    return rgba"
   ]
  },
  {
   "cell_type": "code",
   "execution_count": 32,
   "id": "30ae4651",
   "metadata": {},
   "outputs": [],
   "source": [
    "from typing import Final\n",
    "from decouple import config\n",
    "from rio_tiler.io import COGReader\n",
    "from rio_tiler.utils import render\n",
    "\n",
    "\n",
    "bucket = 'gpdqha'\n",
    "tiff = 'hfi20220811.tif'\n",
    "s3_url = f's3://{bucket}/sybrand_sfms/{tiff}'\n",
    "z, x, y = 6, 9, 18\n",
    "\n",
    "with COGReader(s3_url) as image:\n",
    "    img = image.tile(x, y, z)\n",
    "    data = img.data.copy()\n",
    "\n",
    "# print(len(data.shape))\n",
    "#     render(data)"
   ]
  },
  {
   "cell_type": "code",
   "execution_count": 45,
   "id": "6c52c04d",
   "metadata": {},
   "outputs": [
    {
     "data": {
      "text/plain": [
       "1024"
      ]
     },
     "execution_count": 45,
     "metadata": {},
     "output_type": "execute_result"
    }
   ],
   "source": [
    "\n",
    "\n",
    "new_data = classify(data) \n",
    "\n",
    "len(new_data[0])\n"
   ]
  },
  {
   "cell_type": "code",
   "execution_count": 46,
   "id": "82bc018b",
   "metadata": {},
   "outputs": [],
   "source": [
    "# blah = np.reshape(data, (-1, 256 * 256))\n",
    "import numpy as np\n",
    "import png\n",
    "\n",
    "with open('a.png', 'wb') as f:\n",
    "    w = png.Writer(256, 256, greyscale=False, alpha=True)\n",
    "    w.write(f, new_data)\n",
    "    f.close()\n",
    "\n",
    "# render(data)"
   ]
  },
  {
   "cell_type": "code",
   "execution_count": 60,
   "id": "55e7ae30",
   "metadata": {},
   "outputs": [
    {
     "name": "stdout",
     "output_type": "stream",
     "text": [
      "bands: 1\n",
      "mask? : -3.4028234663852886e+38\n"
     ]
    }
   ],
   "source": [
    "print(f'bands: {len(data)}')\n",
    "\n",
    "# there's a lot of this:\n",
    "mask = np.finfo(np.float32).min\n",
    "print(f'mask? : {mask}')\n",
    "\n",
    "\n",
    "# rgba = np.array([[1,2],[1,2]], np.uint8)\n",
    "\n",
    "\n",
    "\n"
   ]
  },
  {
   "cell_type": "code",
   "execution_count": 62,
   "id": "b692bd9a",
   "metadata": {},
   "outputs": [],
   "source": []
  },
  {
   "cell_type": "code",
   "execution_count": 30,
   "id": "6a31dbaa",
   "metadata": {},
   "outputs": [
    {
     "name": "stdout",
     "output_type": "stream",
     "text": [
      "2.2250738585072014e-308\n"
     ]
    }
   ],
   "source": [
    "import sys\n",
    "print(sys.float_info.min)"
   ]
  },
  {
   "cell_type": "code",
   "execution_count": 41,
   "id": "a5f64e53",
   "metadata": {},
   "outputs": [
    {
     "data": {
      "text/plain": [
       "-3.4028235e+38"
      ]
     },
     "execution_count": 41,
     "metadata": {},
     "output_type": "execute_result"
    }
   ],
   "source": [
    "import numpy as np\n",
    "\n",
    "# np.iinfo(np.dtype('uint16')).min\n",
    "# np.iinfo(np.dtype('float16')).max\n",
    "np.finfo(np.float32).min"
   ]
  },
  {
   "cell_type": "code",
   "execution_count": null,
   "id": "58a224d8",
   "metadata": {},
   "outputs": [],
   "source": []
  }
 ],
 "metadata": {
  "kernelspec": {
   "display_name": "Python 3 (ipykernel)",
   "language": "python",
   "name": "python3"
  },
  "language_info": {
   "codemirror_mode": {
    "name": "ipython",
    "version": 3
   },
   "file_extension": ".py",
   "mimetype": "text/x-python",
   "name": "python",
   "nbconvert_exporter": "python",
   "pygments_lexer": "ipython3",
   "version": "3.8.10"
  }
 },
 "nbformat": 4,
 "nbformat_minor": 5
}
