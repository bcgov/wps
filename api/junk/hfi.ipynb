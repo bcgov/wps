{
 "cells": [
  {
   "cell_type": "code",
   "execution_count": 8,
   "metadata": {},
   "outputs": [],
   "source": [
    "# prepare some test data\n",
    "from datetime import date\n",
    "import app.db.database\n",
    "from app.db.models import FireCentre, PlanningArea, PlanningWeatherStation, FuelType\n",
    "from app.db.crud.hfi_calc import (create_fire_centre_prep_period, create_planning_area_selection_override)\n",
    "\n",
    "with app.db.database.get_write_session_scope() as session:\n",
    "    fire_centre = session.query(FireCentre).filter(FireCentre.name == 'Coastal Fire Centre').first()\n",
    "    planning_area = session.query(PlanningArea).filter(PlanningArea.fire_centre_id == fire_centre.id).first()\n",
    "    station = session.query(PlanningWeatherStation).filter(PlanningWeatherStation.planning_area_id=planning_area.id).first()\n",
    "    fuel_type = session.query(FuelType).first()\n",
    "\n",
    "    # create_fire_centre_prep_period(session, fire_centre.id, date(2022, 2, 1), date(2022, 2, 6))\n",
    "    create_planning_area_selection_override(session, planning_area.id, station.station_code, fuel_type.id, True)\n"
   ]
  },
  {
   "cell_type": "code",
   "execution_count": 2,
   "metadata": {},
   "outputs": [
    {
     "name": "stdout",
     "output_type": "stream",
     "text": [
      "2022-02-01-2022-02-06\n"
     ]
    }
   ],
   "source": [
    "import app.db.database\n",
    "from app.db.models.hfi_calc import FireCentre\n",
    "from app.db.crud.hfi_calc import get_planning_area_overrides_for_day, get_most_recent_fire_centre_prep_period, get_fire_centre_planning_area_selection_overrides\n",
    "\n",
    "\n",
    "\n",
    "with app.db.database.get_write_session_scope() as session:\n",
    "    # starting point is going to be some default\n",
    "    fire_centre = session.query(FireCentre).filter(FireCentre.name == 'Coastal Fire Centre').first()\n",
    "\n",
    "    # get a singular result (or none)\n",
    "    prep_period = get_most_recent_fire_centre_prep_period(session, fire_centre.id)\n",
    "    print(f'{prep_period.prep_start_day}-{prep_period.prep_end_day}')\n",
    "    # get a list (n>=0)\n",
    "    planning_area_overrides = get_fire_centre_planning_area_selection_overrides(session, fire_centre.id)\n",
    "    for override in planning_area_overrides:\n",
    "        print(override)\n",
    "    # get_planning_area_overrides_for_day(session, 1)\n",
    "\n"
   ]
  }
 ],
 "metadata": {
  "interpreter": {
   "hash": "2c98b636044c61b17bb22921339cde1fb341e23aae617ac999dda7f020008944"
  },
  "kernelspec": {
   "display_name": "Python 3.8.10 64-bit ('.venv': poetry)",
   "language": "python",
   "name": "python3"
  },
  "language_info": {
   "codemirror_mode": {
    "name": "ipython",
    "version": 3
   },
   "file_extension": ".py",
   "mimetype": "text/x-python",
   "name": "python",
   "nbconvert_exporter": "python",
   "pygments_lexer": "ipython3",
   "version": "3.8.10"
  },
  "orig_nbformat": 4
 },
 "nbformat": 4,
 "nbformat_minor": 2
}
