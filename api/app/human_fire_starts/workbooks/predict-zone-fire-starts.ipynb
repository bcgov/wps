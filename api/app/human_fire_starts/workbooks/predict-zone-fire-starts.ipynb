{
 "cells": [
  {
   "cell_type": "code",
   "execution_count": 106,
   "metadata": {},
   "outputs": [],
   "source": [
    "from sklearn.ensemble import RandomForestRegressor\n",
    "from sklearn.model_selection import train_test_split\n",
    "from sklearn.metrics import mean_squared_error\n",
    "\n",
    "def eval_model(input_df, output_label):\n",
    "    X=input_df[['FIRE_CENTRE', 'ZONE', 'TIMESTAMP']]  # Features\n",
    "    y=input_df['COUNT']  # Labels\n",
    "\n",
    "    # Create regression model\n",
    "    model=RandomForestRegressor(n_estimators=100)\n",
    "\n",
    "    # Split data, 70% training and 30% test\n",
    "    X_train, X_test, y_train, y_test = train_test_split(X.values, y, test_size=0.3)\n",
    "\n",
    "    model.fit(X_train, y_train)\n",
    "\n",
    "    score = model.score(X_train, y_train)\n",
    "    print(f'--------{output_label}--------') \n",
    "    print(\"R-squared:\", score) \n",
    "\n",
    "    ypred = model.predict(X_test)\n",
    "\n",
    "    mse = mean_squared_error(y_test, ypred)\n",
    "    print(\"MSE: \", mse)\n",
    "    print(\"RMSE: \", mse*(1/2.0))\n",
    "    print(f'------------------------------') \n",
    "\n"
   ]
  },
  {
   "cell_type": "code",
   "execution_count": 109,
   "metadata": {},
   "outputs": [
    {
     "name": "stdout",
     "output_type": "stream",
     "text": [
      "--------May 1, 2017 to May 1, 2022--------\n",
      "R-squared: 0.8916996972873513\n",
      "MSE:  5.632401716350497\n",
      "RMSE:  2.8162008581752485\n",
      "------------------------------\n",
      "--------May 1, 2012 to May 1, 2022--------\n",
      "R-squared: 0.873954331115421\n",
      "MSE:  4.318756746840603\n",
      "RMSE:  2.1593783734203016\n",
      "------------------------------\n",
      "--------May 1, 2002 to May 1, 2022--------\n",
      "R-squared: 0.8750301767456289\n",
      "MSE:  5.891870570902394\n",
      "RMSE:  2.945935285451197\n",
      "------------------------------\n",
      "--------May 1, 1992 to May 1, 2022--------\n",
      "R-squared: 0.8792433713045893\n",
      "MSE:  11.572968396117403\n",
      "RMSE:  5.786484198058702\n",
      "------------------------------\n"
     ]
    }
   ],
   "source": [
    "import pandas\n",
    "\n",
    "df = pandas.read_csv('../data/FIRE_STARTS_PER_ZONE.csv')\n",
    "df = df.set_index('DATE_ISO')\n",
    "\n",
    "last_5_years = df[(df.index > '2017-05-01') & (df.index <= '2022-05-1')]\n",
    "eval_model(last_5_years, \"May 1, 2017 to May 1, 2022\")\n",
    "\n",
    "last_decade = df[(df.index > '2012-05-01') & (df.index <= '2022-05-1')]\n",
    "eval_model(last_decade, \"May 1, 2012 to May 1, 2022\")\n",
    "\n",
    "last_two_decade = df[(df.index > '2002-05-01') & (df.index <= '2022-05-1')]\n",
    "eval_model(last_two_decade, \"May 1, 2002 to May 1, 2022\")\n",
    "\n",
    "last_three_decade = df[(df.index > '1992-05-01') & (df.index <= '2022-05-1')]\n",
    "eval_model(last_three_decade, \"May 1, 1992 to May 1, 2022\")\n"
   ]
  }
 ],
 "metadata": {
  "interpreter": {
   "hash": "a1462a5764311de419f0a163f54378ab0b9e974cc6a81df0153c6e57ef469c50"
  },
  "kernelspec": {
   "display_name": "Python 3.9.7 64-bit ('wps-api-DsRD3VBO-py3.9': poetry)",
   "language": "python",
   "name": "python3"
  },
  "language_info": {
   "codemirror_mode": {
    "name": "ipython",
    "version": 3
   },
   "file_extension": ".py",
   "mimetype": "text/x-python",
   "name": "python",
   "nbconvert_exporter": "python",
   "pygments_lexer": "ipython3",
   "version": "3.9.12"
  },
  "orig_nbformat": 4
 },
 "nbformat": 4,
 "nbformat_minor": 2
}
