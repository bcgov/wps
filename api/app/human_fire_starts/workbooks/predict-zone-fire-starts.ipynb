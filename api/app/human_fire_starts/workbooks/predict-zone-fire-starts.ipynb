{
 "cells": [
  {
   "cell_type": "code",
   "execution_count": 98,
   "metadata": {},
   "outputs": [
    {
     "data": {
      "text/html": [
       "<div>\n",
       "<style scoped>\n",
       "    .dataframe tbody tr th:only-of-type {\n",
       "        vertical-align: middle;\n",
       "    }\n",
       "\n",
       "    .dataframe tbody tr th {\n",
       "        vertical-align: top;\n",
       "    }\n",
       "\n",
       "    .dataframe thead th {\n",
       "        text-align: right;\n",
       "    }\n",
       "</style>\n",
       "<table border=\"1\" class=\"dataframe\">\n",
       "  <thead>\n",
       "    <tr style=\"text-align: right;\">\n",
       "      <th></th>\n",
       "      <th>FIRE_CENTRE</th>\n",
       "      <th>ZONE</th>\n",
       "      <th>COUNT</th>\n",
       "      <th>UNIX_TIMESTAMP</th>\n",
       "    </tr>\n",
       "    <tr>\n",
       "      <th>TIMESTAMP</th>\n",
       "      <th></th>\n",
       "      <th></th>\n",
       "      <th></th>\n",
       "      <th></th>\n",
       "    </tr>\n",
       "  </thead>\n",
       "  <tbody>\n",
       "    <tr>\n",
       "      <th>1950-05-01</th>\n",
       "      <td>2.0</td>\n",
       "      <td>0.0</td>\n",
       "      <td>1</td>\n",
       "      <td>-620758800.0</td>\n",
       "    </tr>\n",
       "    <tr>\n",
       "      <th>1950-05-04</th>\n",
       "      <td>2.0</td>\n",
       "      <td>0.0</td>\n",
       "      <td>1</td>\n",
       "      <td>-620499600.0</td>\n",
       "    </tr>\n",
       "    <tr>\n",
       "      <th>1950-05-12</th>\n",
       "      <td>2.0</td>\n",
       "      <td>0.0</td>\n",
       "      <td>1</td>\n",
       "      <td>-619808400.0</td>\n",
       "    </tr>\n",
       "    <tr>\n",
       "      <th>1950-05-14</th>\n",
       "      <td>2.0</td>\n",
       "      <td>0.0</td>\n",
       "      <td>2</td>\n",
       "      <td>-619635600.0</td>\n",
       "    </tr>\n",
       "    <tr>\n",
       "      <th>1950-05-16</th>\n",
       "      <td>2.0</td>\n",
       "      <td>0.0</td>\n",
       "      <td>7</td>\n",
       "      <td>-619462800.0</td>\n",
       "    </tr>\n",
       "    <tr>\n",
       "      <th>...</th>\n",
       "      <td>...</td>\n",
       "      <td>...</td>\n",
       "      <td>...</td>\n",
       "      <td>...</td>\n",
       "    </tr>\n",
       "    <tr>\n",
       "      <th>1973-09-08</th>\n",
       "      <td>7.0</td>\n",
       "      <td>24.0</td>\n",
       "      <td>2</td>\n",
       "      <td>116319600.0</td>\n",
       "    </tr>\n",
       "    <tr>\n",
       "      <th>1973-09-11</th>\n",
       "      <td>7.0</td>\n",
       "      <td>24.0</td>\n",
       "      <td>1</td>\n",
       "      <td>116578800.0</td>\n",
       "    </tr>\n",
       "    <tr>\n",
       "      <th>1973-09-16</th>\n",
       "      <td>7.0</td>\n",
       "      <td>24.0</td>\n",
       "      <td>1</td>\n",
       "      <td>117010800.0</td>\n",
       "    </tr>\n",
       "    <tr>\n",
       "      <th>1973-09-19</th>\n",
       "      <td>7.0</td>\n",
       "      <td>24.0</td>\n",
       "      <td>1</td>\n",
       "      <td>117270000.0</td>\n",
       "    </tr>\n",
       "    <tr>\n",
       "      <th>1971-06-22</th>\n",
       "      <td>7.0</td>\n",
       "      <td>60.0</td>\n",
       "      <td>1</td>\n",
       "      <td>46422000.0</td>\n",
       "    </tr>\n",
       "  </tbody>\n",
       "</table>\n",
       "<p>87914 rows × 4 columns</p>\n",
       "</div>"
      ],
      "text/plain": [
       "            FIRE_CENTRE  ZONE  COUNT  UNIX_TIMESTAMP\n",
       "TIMESTAMP                                           \n",
       "1950-05-01          2.0   0.0      1    -620758800.0\n",
       "1950-05-04          2.0   0.0      1    -620499600.0\n",
       "1950-05-12          2.0   0.0      1    -619808400.0\n",
       "1950-05-14          2.0   0.0      2    -619635600.0\n",
       "1950-05-16          2.0   0.0      7    -619462800.0\n",
       "...                 ...   ...    ...             ...\n",
       "1973-09-08          7.0  24.0      2     116319600.0\n",
       "1973-09-11          7.0  24.0      1     116578800.0\n",
       "1973-09-16          7.0  24.0      1     117010800.0\n",
       "1973-09-19          7.0  24.0      1     117270000.0\n",
       "1971-06-22          7.0  60.0      1      46422000.0\n",
       "\n",
       "[87914 rows x 4 columns]"
      ]
     },
     "execution_count": 98,
     "metadata": {},
     "output_type": "execute_result"
    }
   ],
   "source": [
    "import pandas\n",
    "from dateutil.parser import parse\n",
    "\n",
    "def parse_date(datestr: str):\n",
    "    \"\"\" Extract relevant date details from input string,\n",
    "        normalize to midnight, return date string YYYY/MM/DD\n",
    "    \"\"\"\n",
    "    dt = parse(datestr, yearfirst=True)\n",
    "    return dt.timestamp()\n",
    "\n",
    "df = pandas.read_csv('../data/FIRE_STARTS_PER_ZONE.csv')\n",
    "df['UNIX_TIMESTAMP'] = df['TIMESTAMP'].map(parse_date)\n",
    "df = df.set_index('TIMESTAMP')\n",
    "df\n",
    "\n"
   ]
  },
  {
   "cell_type": "code",
   "execution_count": 96,
   "metadata": {},
   "outputs": [],
   "source": [
    "from sklearn.ensemble import RandomForestRegressor\n",
    "from sklearn.model_selection import train_test_split\n",
    "from sklearn.metrics import mean_squared_error\n",
    "\n",
    "def eval_model(input_df, output_label):\n",
    "    X=input_df[['FIRE_CENTRE', 'ZONE', 'UNIX_TIMESTAMP']]  # Features\n",
    "    y=input_df['COUNT']  # Labels\n",
    "\n",
    "    # Create regression model\n",
    "    model=RandomForestRegressor(n_estimators=100)\n",
    "\n",
    "    # Split data, 70% training and 30% test\n",
    "    X_train, X_test, y_train, y_test = train_test_split(X.values, y, test_size=0.3)\n",
    "\n",
    "    model.fit(X_train, y_train)\n",
    "\n",
    "    score = model.score(X_train, y_train)\n",
    "    print(f'--------{output_label}--------') \n",
    "    print(\"R-squared:\", score) \n",
    "\n",
    "    ypred = model.predict(X_test)\n",
    "\n",
    "    mse = mean_squared_error(y_test, ypred)\n",
    "    print(\"MSE: \", mse)\n",
    "    print(\"RMSE: \", mse*(1/2.0))\n",
    "    print(f'------------------------------') \n",
    "\n"
   ]
  },
  {
   "cell_type": "code",
   "execution_count": 77,
   "metadata": {},
   "outputs": [
    {
     "data": {
      "text/plain": [
       "array([1.02])"
      ]
     },
     "execution_count": 77,
     "metadata": {},
     "output_type": "execute_result"
    }
   ],
   "source": [
    "# Predict into the future!\n",
    "# Count of fires in fire centre 1, zone 1 on Sat May 27 2023 04:48:19 GMT+0000\n",
    "# out = model.predict([[1, 1, 1685162899]])\n",
    "# out"
   ]
  },
  {
   "cell_type": "code",
   "execution_count": 102,
   "metadata": {},
   "outputs": [
    {
     "name": "stdout",
     "output_type": "stream",
     "text": [
      "--------May 1, 2017 to May 1, 2022--------\n",
      "R-squared: 0.8691497306904904\n",
      "MSE:  6.010539057239057\n",
      "RMSE:  3.0052695286195283\n",
      "------------------------------\n",
      "--------May 1, 2012 to May 1, 2022--------\n",
      "R-squared: 0.8761612760990077\n",
      "MSE:  4.185201541677554\n",
      "RMSE:  2.092600770838777\n",
      "------------------------------\n",
      "--------May 1, 2002 to May 1, 2022--------\n",
      "R-squared: 0.8747803370774166\n",
      "MSE:  6.6393791878172586\n",
      "RMSE:  3.3196895939086293\n",
      "------------------------------\n",
      "--------May 1, 1992 to May 1, 2022--------\n",
      "R-squared: 0.8721431292865001\n",
      "MSE:  8.401351491008421\n",
      "RMSE:  4.200675745504211\n",
      "------------------------------\n"
     ]
    }
   ],
   "source": [
    "last_5_years = df[(df.index > '2017-05-01') & (df.index <= '2022-05-1')]\n",
    "eval_model(last_5_years, \"May 1, 2017 to May 1, 2022\")\n",
    "\n",
    "last_decade = df[(df.index > '2012-05-01') & (df.index <= '2022-05-1')]\n",
    "eval_model(last_decade, \"May 1, 2012 to May 1, 2022\")\n",
    "\n",
    "last_two_decade = df[(df.index > '2002-05-01') & (df.index <= '2022-05-1')]\n",
    "eval_model(last_two_decade, \"May 1, 2002 to May 1, 2022\")\n",
    "\n",
    "last_three_decade = df[(df.index > '1992-05-01') & (df.index <= '2022-05-1')]\n",
    "eval_model(last_three_decade, \"May 1, 1992 to May 1, 2022\")\n"
   ]
  },
  {
   "cell_type": "code",
   "execution_count": 37,
   "metadata": {},
   "outputs": [
    {
     "data": {
      "image/png": "[encoded data removed]",
      "text/plain": [
       "<Figure size 432x288 with 1 Axes>"
      ]
     },
     "metadata": {
      "needs_background": "light"
     },
     "output_type": "display_data"
    }
   ],
   "source": [
    "import matplotlib.pyplot as plt\n",
    "\n",
    "#Plot\n",
    "x_ax = range(len(y_test))\n",
    "plt.plot(x_ax, y_test, linewidth=1, label=\"original\")\n",
    "plt.plot(x_ax, ypred, linewidth=1.1, label=\"predicted\")\n",
    "plt.title(\"y-test and y-predicted data\")\n",
    "plt.xlabel('X-axis')\n",
    "plt.ylabel('Y-axis')\n",
    "plt.legend(loc='best',fancybox=True, shadow=True)\n",
    "plt.grid(True)\n",
    "plt.show() "
   ]
  }
 ],
 "metadata": {
  "interpreter": {
   "hash": "a1462a5764311de419f0a163f54378ab0b9e974cc6a81df0153c6e57ef469c50"
  },
  "kernelspec": {
   "display_name": "Python 3.9.7 64-bit ('wps-api-DsRD3VBO-py3.9': poetry)",
   "language": "python",
   "name": "python3"
  },
  "language_info": {
   "codemirror_mode": {
    "name": "ipython",
    "version": 3
   },
   "file_extension": ".py",
   "mimetype": "text/x-python",
   "name": "python",
   "nbconvert_exporter": "python",
   "pygments_lexer": "ipython3",
   "version": "3.9.12"
  },
  "orig_nbformat": 4
 },
 "nbformat": 4,
 "nbformat_minor": 2
}
