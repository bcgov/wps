{
 "cells": [
  {
   "cell_type": "code",
   "execution_count": 8,
   "metadata": {},
   "outputs": [
    {
     "data": {
      "text/html": [
       "<div>\n",
       "<style scoped>\n",
       "    .dataframe tbody tr th:only-of-type {\n",
       "        vertical-align: middle;\n",
       "    }\n",
       "\n",
       "    .dataframe tbody tr th {\n",
       "        vertical-align: top;\n",
       "    }\n",
       "\n",
       "    .dataframe thead th {\n",
       "        text-align: right;\n",
       "    }\n",
       "</style>\n",
       "<table border=\"1\" class=\"dataframe\">\n",
       "  <thead>\n",
       "    <tr style=\"text-align: right;\">\n",
       "      <th></th>\n",
       "      <th>Unnamed: 0</th>\n",
       "      <th>FIRE_CENTRE</th>\n",
       "      <th>ZONE</th>\n",
       "      <th>IGNITION_DATE</th>\n",
       "      <th>COUNT</th>\n",
       "      <th>TIMESTAMP</th>\n",
       "    </tr>\n",
       "  </thead>\n",
       "  <tbody>\n",
       "    <tr>\n",
       "      <th>0</th>\n",
       "      <td>0</td>\n",
       "      <td>2.0</td>\n",
       "      <td>0.0</td>\n",
       "      <td>1950-05-01</td>\n",
       "      <td>1</td>\n",
       "      <td>-620784000000000000</td>\n",
       "    </tr>\n",
       "    <tr>\n",
       "      <th>1</th>\n",
       "      <td>1</td>\n",
       "      <td>2.0</td>\n",
       "      <td>0.0</td>\n",
       "      <td>1950-05-04</td>\n",
       "      <td>1</td>\n",
       "      <td>-620524800000000000</td>\n",
       "    </tr>\n",
       "    <tr>\n",
       "      <th>2</th>\n",
       "      <td>2</td>\n",
       "      <td>2.0</td>\n",
       "      <td>0.0</td>\n",
       "      <td>1950-05-12</td>\n",
       "      <td>1</td>\n",
       "      <td>-619833600000000000</td>\n",
       "    </tr>\n",
       "    <tr>\n",
       "      <th>3</th>\n",
       "      <td>3</td>\n",
       "      <td>2.0</td>\n",
       "      <td>0.0</td>\n",
       "      <td>1950-05-14</td>\n",
       "      <td>2</td>\n",
       "      <td>-619660800000000000</td>\n",
       "    </tr>\n",
       "    <tr>\n",
       "      <th>4</th>\n",
       "      <td>4</td>\n",
       "      <td>2.0</td>\n",
       "      <td>0.0</td>\n",
       "      <td>1950-05-16</td>\n",
       "      <td>7</td>\n",
       "      <td>-619488000000000000</td>\n",
       "    </tr>\n",
       "    <tr>\n",
       "      <th>...</th>\n",
       "      <td>...</td>\n",
       "      <td>...</td>\n",
       "      <td>...</td>\n",
       "      <td>...</td>\n",
       "      <td>...</td>\n",
       "      <td>...</td>\n",
       "    </tr>\n",
       "    <tr>\n",
       "      <th>81303</th>\n",
       "      <td>81303</td>\n",
       "      <td>7.0</td>\n",
       "      <td>24.0</td>\n",
       "      <td>1973-09-08</td>\n",
       "      <td>2</td>\n",
       "      <td>116294400000000000</td>\n",
       "    </tr>\n",
       "    <tr>\n",
       "      <th>81304</th>\n",
       "      <td>81304</td>\n",
       "      <td>7.0</td>\n",
       "      <td>24.0</td>\n",
       "      <td>1973-09-11</td>\n",
       "      <td>1</td>\n",
       "      <td>116553600000000000</td>\n",
       "    </tr>\n",
       "    <tr>\n",
       "      <th>81305</th>\n",
       "      <td>81305</td>\n",
       "      <td>7.0</td>\n",
       "      <td>24.0</td>\n",
       "      <td>1973-09-16</td>\n",
       "      <td>1</td>\n",
       "      <td>116985600000000000</td>\n",
       "    </tr>\n",
       "    <tr>\n",
       "      <th>81306</th>\n",
       "      <td>81306</td>\n",
       "      <td>7.0</td>\n",
       "      <td>24.0</td>\n",
       "      <td>1973-09-19</td>\n",
       "      <td>1</td>\n",
       "      <td>117244800000000000</td>\n",
       "    </tr>\n",
       "    <tr>\n",
       "      <th>81307</th>\n",
       "      <td>81307</td>\n",
       "      <td>7.0</td>\n",
       "      <td>60.0</td>\n",
       "      <td>1971-06-22</td>\n",
       "      <td>1</td>\n",
       "      <td>46396800000000000</td>\n",
       "    </tr>\n",
       "  </tbody>\n",
       "</table>\n",
       "<p>81308 rows × 6 columns</p>\n",
       "</div>"
      ],
      "text/plain": [
       "       Unnamed: 0  FIRE_CENTRE  ZONE IGNITION_DATE  COUNT           TIMESTAMP\n",
       "0               0          2.0   0.0    1950-05-01      1 -620784000000000000\n",
       "1               1          2.0   0.0    1950-05-04      1 -620524800000000000\n",
       "2               2          2.0   0.0    1950-05-12      1 -619833600000000000\n",
       "3               3          2.0   0.0    1950-05-14      2 -619660800000000000\n",
       "4               4          2.0   0.0    1950-05-16      7 -619488000000000000\n",
       "...           ...          ...   ...           ...    ...                 ...\n",
       "81303       81303          7.0  24.0    1973-09-08      2  116294400000000000\n",
       "81304       81304          7.0  24.0    1973-09-11      1  116553600000000000\n",
       "81305       81305          7.0  24.0    1973-09-16      1  116985600000000000\n",
       "81306       81306          7.0  24.0    1973-09-19      1  117244800000000000\n",
       "81307       81307          7.0  60.0    1971-06-22      1   46396800000000000\n",
       "\n",
       "[81308 rows x 6 columns]"
      ]
     },
     "execution_count": 8,
     "metadata": {},
     "output_type": "execute_result"
    }
   ],
   "source": [
    "import pandas\n",
    "import numpy\n",
    "\n",
    "df = pandas.read_csv('../data/FIRE_STARTS_PER_ZONE.csv')\n",
    "df['IGNITION_DATE'] = df['IGNITION_DATE'].map(pandas.to_datetime)\n",
    "df['TIMESTAMP'] = df['IGNITION_DATE'].values.astype(numpy.int64) # 10 ** 9\n",
    "df\n",
    "\n"
   ]
  },
  {
   "cell_type": "code",
   "execution_count": 20,
   "metadata": {},
   "outputs": [
    {
     "name": "stdout",
     "output_type": "stream",
     "text": [
      "R-squared: 0.865735826553846\n",
      "MSE:  10.3716291354077\n",
      "RMSE:  5.18581456770385\n"
     ]
    }
   ],
   "source": [
    "from sklearn.ensemble import RandomForestRegressor\n",
    "from sklearn.model_selection import train_test_split\n",
    "from sklearn.metrics import mean_squared_error\n",
    "\n",
    "X=df[['FIRE_CENTRE', 'ZONE', 'TIMESTAMP']]  # Features\n",
    "y=df['COUNT']  # Labels\n",
    "\n",
    "# Create regression model\n",
    "model=RandomForestRegressor(n_estimators=100)\n",
    "\n",
    "# Split data, 70% training and 30% test\n",
    "X_train, X_test, y_train, y_test = train_test_split(X.values, y, test_size=0.3)\n",
    "\n",
    "model.fit(X_train, y_train)\n",
    "\n",
    "score = model.score(X_train, y_train)\n",
    "print(\"R-squared:\", score) \n",
    "\n",
    "ypred = model.predict(X_test)\n",
    "\n",
    "mse = mean_squared_error(y_test, ypred)\n",
    "print(\"MSE: \", mse)\n",
    "print(\"RMSE: \", mse*(1/2.0)) \n",
    "\n"
   ]
  },
  {
   "cell_type": "code",
   "execution_count": 21,
   "metadata": {},
   "outputs": [
    {
     "data": {
      "text/plain": [
       "array([1.02])"
      ]
     },
     "execution_count": 21,
     "metadata": {},
     "output_type": "execute_result"
    }
   ],
   "source": [
    "# Predict into the future!\n",
    "# Count of fires in fire centre 1, zone 1 on Sat May 27 2023 04:48:19 GMT+0000\n",
    "out = model.predict([[1, 1, 1685162899]])\n",
    "out"
   ]
  },
  {
   "cell_type": "code",
   "execution_count": 22,
   "metadata": {},
   "outputs": [
    {
     "data": {
      "image/png": "[encoded data removed]",
      "text/plain": [
       "<Figure size 432x288 with 1 Axes>"
      ]
     },
     "metadata": {
      "needs_background": "light"
     },
     "output_type": "display_data"
    }
   ],
   "source": [
    "import matplotlib.pyplot as plt\n",
    "\n",
    "#Plot\n",
    "x_ax = range(len(y_test))\n",
    "plt.plot(x_ax, y_test, linewidth=1, label=\"original\")\n",
    "plt.plot(x_ax, ypred, linewidth=1.1, label=\"predicted\")\n",
    "plt.title(\"y-test and y-predicted data\")\n",
    "plt.xlabel('X-axis')\n",
    "plt.ylabel('Y-axis')\n",
    "plt.legend(loc='best',fancybox=True, shadow=True)\n",
    "plt.grid(True)\n",
    "plt.show() "
   ]
  }
 ],
 "metadata": {
  "interpreter": {
   "hash": "a1462a5764311de419f0a163f54378ab0b9e974cc6a81df0153c6e57ef469c50"
  },
  "kernelspec": {
   "display_name": "Python 3.9.7 64-bit ('wps-api-DsRD3VBO-py3.9': poetry)",
   "language": "python",
   "name": "python3"
  },
  "language_info": {
   "codemirror_mode": {
    "name": "ipython",
    "version": 3
   },
   "file_extension": ".py",
   "mimetype": "text/x-python",
   "name": "python",
   "nbconvert_exporter": "python",
   "pygments_lexer": "ipython3",
   "version": "3.9.12"
  },
  "orig_nbformat": 4
 },
 "nbformat": 4,
 "nbformat_minor": 2
}
