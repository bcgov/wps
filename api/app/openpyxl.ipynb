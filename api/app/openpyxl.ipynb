{
 "cells": [
  {
   "cell_type": "code",
   "execution_count": 28,
   "metadata": {},
   "outputs": [
    {
     "data": {
      "text/plain": [
       "True"
      ]
     },
     "execution_count": 28,
     "metadata": {},
     "output_type": "execute_result"
    }
   ],
   "source": [
    "import base64\n",
    "import json\n",
    "from aiohttp import ClientSession\n",
    "from openpyxl import Workbook\n",
    "\n",
    "wb = Workbook()\n",
    "\n",
    "# TODO: get a API key\n",
    "# TODO: consider self hosting (sla etc.?) - p.o. decision.\n",
    "# TODO: figure out iterating over data.\n",
    "\n",
    "with open('./hfi_result.json', 'rb') as json_file:\n",
    "    data = json.load(json_file)\n",
    "    # grab the active worksheet\n",
    "    ws = wb.active\n",
    "    # Rows can also be appended\n",
    "    ws.append(data)\n",
    "\n",
    "# Save the file\n",
    "wb.save(\"sample.xlsx\")"
   ]
  },
  {
   "cell_type": "code",
   "execution_count": 25,
   "metadata": {},
   "outputs": [
    {
     "name": "stdout",
     "output_type": "stream",
     "text": [
      "<_io.BufferedReader name='./full_hfi_template.docx'>\n"
     ]
    }
   ],
   "source": [
    "import json\n",
    "with open('./full_hfi_template.docx', 'rb') as json_file:\n",
    "    print(json_file)"
   ]
  }
 ],
 "metadata": {
  "interpreter": {
   "hash": "2c98b636044c61b17bb22921339cde1fb341e23aae617ac999dda7f020008944"
  },
  "kernelspec": {
   "display_name": "Python 3.8.10 64-bit ('.venv': poetry)",
   "language": "python",
   "name": "python3"
  },
  "language_info": {
   "codemirror_mode": {
    "name": "ipython",
    "version": 3
   },
   "file_extension": ".py",
   "mimetype": "text/x-python",
   "name": "python",
   "nbconvert_exporter": "python",
   "pygments_lexer": "ipython3",
   "version": "3.9.10"
  },
  "orig_nbformat": 4
 },
 "nbformat": 4,
 "nbformat_minor": 2
}
