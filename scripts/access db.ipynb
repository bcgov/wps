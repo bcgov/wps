{
 "cells": [
  {
   "cell_type": "code",
   "execution_count": 1,
   "metadata": {},
   "outputs": [
    {
     "data": {
      "text/plain": [
       "['Microsoft Access Driver (*.mdb)', 'Microsoft Access Driver (*.mdb, *.accdb)']"
      ]
     },
     "execution_count": 1,
     "metadata": {},
     "output_type": "execute_result"
    }
   ],
   "source": [
    "# following instructions from https://github.com/mkleehammer/pyodbc/wiki/Connecting-to-Microsoft-Access\n",
    "\n",
    "# import python odbc, and check for drivers\n",
    "import pyodbc\n",
    "\n",
    "# i had to install the 32bit driver to get accdb (https://www.microsoft.com/en-US/download/details.aspx?id=13255)\n",
    "[x for x in pyodbc.drivers() if x.startswith('Microsoft Access Driver')]"
   ]
  },
  {
   "cell_type": "code",
   "execution_count": 2,
   "metadata": {},
   "outputs": [
    {
     "name": "stdout",
     "output_type": "stream",
     "text": [
      "DailyWeather\n",
      "Lookup_DangerClass\n",
      "Lookup_DataLoggerType\n",
      "Lookup_SiteType\n",
      "Lookup_StationCategory\n",
      "Lookup_ValidDataRange_Index\n",
      "Lookup_ValidDataRange_Observation\n",
      "Station_BC\n"
     ]
    }
   ],
   "source": [
    "conn_str = (\n",
    "    r'DRIVER={Microsoft Access Driver (*.mdb, *.accdb)};'\n",
    "    r'DBQ=C:\\Users\\Sybrand\\Workspace\\wps-api\\scripts\\BCFireWeather2019_DailyAllStns;'\n",
    "    )\n",
    "cnxn = pyodbc.connect(conn_str)\n",
    "crsr = cnxn.cursor()\n",
    "for table_info in crsr.tables(tableType='TABLE'):\n",
    "    print(table_info.table_name)"
   ]
  },
  {
   "cell_type": "code",
   "execution_count": null,
   "metadata": {},
   "outputs": [],
   "source": [
    "import csv\n",
    "\n",
    "def export_table(table):\n",
    "    \n",
    "    fieldnames = []\n",
    "    for row in crsr.columns(table=table):\n",
    "        fieldnames.append(row.column_name)\n",
    "    print(fieldnames)\n",
    "    \n",
    "    with open('{}.csv'.format(table), 'w') as csvfile:\n",
    "        writer = csv.writer(csvfile)\n",
    "        writer.writerow(fieldnames)\n",
    "        print(fieldnames)\n",
    "    \n",
    "        crsr.execute(\"SELECT * FROM {}\".format(table))\n",
    "        for row in crsr.fetchall():\n",
    "            writer.writerow(row)\n",
    "            print(row)\n",
    "\n",
    "\n",
    "export_table('Station_BC')\n",
    "#export_table('DailyWeather')\n",
    "# tables = []\n",
    "# for table_info in crsr.tables(tableType='TABLE'):\n",
    "#     tables.append(table_info.table_name)\n",
    "#     #print(table_info.table_name)\n",
    "# for table in tables:\n",
    "#     print('#{}'.format(table))\n",
    "#     for row in crsr.columns(table=table):\n",
    "#          print(row.column_name)"
   ]
  },
  {
   "cell_type": "code",
   "execution_count": null,
   "metadata": {},
   "outputs": [],
   "source": []
  }
 ],
 "metadata": {
  "kernelspec": {
   "display_name": "Python 3",
   "language": "python",
   "name": "python3"
  },
  "language_info": {
   "codemirror_mode": {
    "name": "ipython",
    "version": 3
   },
   "file_extension": ".py",
   "mimetype": "text/x-python",
   "name": "python",
   "nbconvert_exporter": "python",
   "pygments_lexer": "ipython3",
   "version": "3.6.4"
  }
 },
 "nbformat": 4,
 "nbformat_minor": 4
}
